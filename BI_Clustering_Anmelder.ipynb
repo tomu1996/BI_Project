{
 "cells": [
  {
   "cell_type": "markdown",
   "metadata": {},
   "source": [
    "# Clusteranalyse Anmelder\n",
    "Zunächst werden alle benötigten Bibliotheken importiert"
   ]
  },
  {
   "cell_type": "code",
   "execution_count": 1,
   "metadata": {},
   "outputs": [],
   "source": [
    "# Bibliotheken importieren\n",
    "import pandas as pd\n",
    "from yellowbrick.cluster import SilhouetteVisualizer\n",
    "from yellowbrick.cluster import KElbowVisualizer\n",
    "from sklearn.cluster import KMeans\n",
    "from sklearn.metrics.pairwise import cosine_similarity\n",
    "from bokeh.io import output_file, save, output_notebook, show\n",
    "from bokeh.models import ColumnDataSource, Title, HoverTool\n",
    "from bokeh.plotting import figure\n",
    "from bokeh.transform import transform\n",
    "from bokeh.models import LinearColorMapper\n",
    "from bokeh.palettes import RdYlGn\n",
    "from bokeh.palettes import Cividis\n",
    "import numpy as np"
   ]
  },
  {
   "cell_type": "markdown",
   "metadata": {},
   "source": [
    "## Daten einlesen\n",
    "In dieser Zelle werden Patente eingelesen und angezeigt"
   ]
  },
  {
   "cell_type": "code",
   "execution_count": 2,
   "metadata": {},
   "outputs": [
    {
     "name": "stderr",
     "output_type": "stream",
     "text": [
      "C:\\Users\\tom-n\\anaconda3\\lib\\site-packages\\IPython\\core\\interactiveshell.py:3146: DtypeWarning: Columns (8) have mixed types.Specify dtype option on import or set low_memory=False.\n",
      "  has_raised = await self.run_ast_nodes(code_ast.body, cell_name,\n"
     ]
    },
    {
     "data": {
      "text/html": [
       "<div>\n",
       "<style scoped>\n",
       "    .dataframe tbody tr th:only-of-type {\n",
       "        vertical-align: middle;\n",
       "    }\n",
       "\n",
       "    .dataframe tbody tr th {\n",
       "        vertical-align: top;\n",
       "    }\n",
       "\n",
       "    .dataframe thead th {\n",
       "        text-align: right;\n",
       "    }\n",
       "</style>\n",
       "<table border=\"1\" class=\"dataframe\">\n",
       "  <thead>\n",
       "    <tr style=\"text-align: right;\">\n",
       "      <th></th>\n",
       "      <th>patent_number</th>\n",
       "      <th>inventor_last_name</th>\n",
       "      <th>assignee_organization</th>\n",
       "      <th>cpc_group_id</th>\n",
       "    </tr>\n",
       "  </thead>\n",
       "  <tbody>\n",
       "    <tr>\n",
       "      <th>0</th>\n",
       "      <td>10013573</td>\n",
       "      <td>Dillenberger</td>\n",
       "      <td>International Business Machines Corporation</td>\n",
       "      <td>G06F</td>\n",
       "    </tr>\n",
       "    <tr>\n",
       "      <th>1</th>\n",
       "      <td>10013573</td>\n",
       "      <td>Dillenberger</td>\n",
       "      <td>International Business Machines Corporation</td>\n",
       "      <td>H04L</td>\n",
       "    </tr>\n",
       "    <tr>\n",
       "      <th>2</th>\n",
       "      <td>10013573</td>\n",
       "      <td>Dillenberger</td>\n",
       "      <td>International Business Machines Corporation</td>\n",
       "      <td>G06F</td>\n",
       "    </tr>\n",
       "    <tr>\n",
       "      <th>3</th>\n",
       "      <td>10013573</td>\n",
       "      <td>Dillenberger</td>\n",
       "      <td>International Business Machines Corporation</td>\n",
       "      <td>H04L</td>\n",
       "    </tr>\n",
       "    <tr>\n",
       "      <th>4</th>\n",
       "      <td>10022613</td>\n",
       "      <td>Tran</td>\n",
       "      <td>NaN</td>\n",
       "      <td>A41D</td>\n",
       "    </tr>\n",
       "  </tbody>\n",
       "</table>\n",
       "</div>"
      ],
      "text/plain": [
       "  patent_number inventor_last_name  \\\n",
       "0      10013573       Dillenberger   \n",
       "1      10013573       Dillenberger   \n",
       "2      10013573       Dillenberger   \n",
       "3      10013573       Dillenberger   \n",
       "4      10022613               Tran   \n",
       "\n",
       "                         assignee_organization cpc_group_id  \n",
       "0  International Business Machines Corporation         G06F  \n",
       "1  International Business Machines Corporation         H04L  \n",
       "2  International Business Machines Corporation         G06F  \n",
       "3  International Business Machines Corporation         H04L  \n",
       "4                                          NaN         A41D  "
      ]
     },
     "execution_count": 2,
     "metadata": {},
     "output_type": "execute_result"
    }
   ],
   "source": [
    "folderpath = './data_bi/'\n",
    "filepath = folderpath + 'patents_with_title.csv'\n",
    "data = pd.read_csv(filepath , sep = \";\", usecols = ['patent_number','assignee_organization','cpc_group_id','inventor_last_name'],\n",
    "                    dtype={'patent_number': str, 'cited_patent_number': str,'cpc_group_id':str,'inventor_last_name':str})\n",
    "data.head()"
   ]
  },
  {
   "cell_type": "markdown",
   "metadata": {},
   "source": [
    "## Fehlende Unternehmen ersetzen\n",
    "Hier werden für die fehlenden Unternehmen die Nachnamen der Erfinder eingesetzt und im Anschluss die Erfinderspalte gelöscht"
   ]
  },
  {
   "cell_type": "code",
   "execution_count": 3,
   "metadata": {},
   "outputs": [],
   "source": [
    "data.assignee_organization.fillna(data['inventor_last_name'],inplace = True)\n",
    "data.drop([\"inventor_last_name\"], axis = 1, inplace = True)"
   ]
  },
  {
   "cell_type": "markdown",
   "metadata": {},
   "source": [
    "## Duplikate entfernen\n",
    "Hier werden Duplikate dür die Spalten Patentnummer,Unternehmen und Hauptgruppe entfernt und die Spalten für eine leichtere Bearbeitung umbenannnt"
   ]
  },
  {
   "cell_type": "code",
   "execution_count": 4,
   "metadata": {},
   "outputs": [],
   "source": [
    "data.drop_duplicates(['patent_number', 'assignee_organization', 'cpc_group_id'],keep = 'first', inplace = True)\n",
    "data.columns = [\"patent_id\", \"organization\", \"patent_group\"]"
   ]
  },
  {
   "cell_type": "markdown",
   "metadata": {},
   "source": [
    "## Duplikate entfernen\n",
    "Hier werden Duplikate dür die Spalten Patentnummer und Unternehmen und entfernt und die Daten werden der Variablen assigne_data zugewiesen"
   ]
  },
  {
   "cell_type": "code",
   "execution_count": 5,
   "metadata": {},
   "outputs": [
    {
     "data": {
      "text/html": [
       "<div>\n",
       "<style scoped>\n",
       "    .dataframe tbody tr th:only-of-type {\n",
       "        vertical-align: middle;\n",
       "    }\n",
       "\n",
       "    .dataframe tbody tr th {\n",
       "        vertical-align: top;\n",
       "    }\n",
       "\n",
       "    .dataframe thead th {\n",
       "        text-align: right;\n",
       "    }\n",
       "</style>\n",
       "<table border=\"1\" class=\"dataframe\">\n",
       "  <thead>\n",
       "    <tr style=\"text-align: right;\">\n",
       "      <th></th>\n",
       "      <th>patent_id</th>\n",
       "      <th>organization</th>\n",
       "      <th>patent_group</th>\n",
       "    </tr>\n",
       "  </thead>\n",
       "  <tbody>\n",
       "    <tr>\n",
       "      <th>0</th>\n",
       "      <td>10013573</td>\n",
       "      <td>International Business Machines Corporation</td>\n",
       "      <td>G06F</td>\n",
       "    </tr>\n",
       "    <tr>\n",
       "      <th>4</th>\n",
       "      <td>10022613</td>\n",
       "      <td>Tran</td>\n",
       "      <td>A41D</td>\n",
       "    </tr>\n",
       "    <tr>\n",
       "      <th>2524</th>\n",
       "      <td>10026082</td>\n",
       "      <td>MASTERCARD INTERNATIONAL INCORPORATED</td>\n",
       "      <td>G06Q</td>\n",
       "    </tr>\n",
       "    <tr>\n",
       "      <th>2542</th>\n",
       "      <td>10044369</td>\n",
       "      <td>Centri Technology, Inc.</td>\n",
       "      <td>H03M</td>\n",
       "    </tr>\n",
       "    <tr>\n",
       "      <th>2552</th>\n",
       "      <td>10046228</td>\n",
       "      <td>Tran</td>\n",
       "      <td>A41D</td>\n",
       "    </tr>\n",
       "    <tr>\n",
       "      <th>...</th>\n",
       "      <td>...</td>\n",
       "      <td>...</td>\n",
       "      <td>...</td>\n",
       "    </tr>\n",
       "    <tr>\n",
       "      <th>196568</th>\n",
       "      <td>9967096</td>\n",
       "      <td>Accenture Global Services Limited</td>\n",
       "      <td>G06F</td>\n",
       "    </tr>\n",
       "    <tr>\n",
       "      <th>196898</th>\n",
       "      <td>9979718</td>\n",
       "      <td>NEC Corporation Of America</td>\n",
       "      <td>G06F</td>\n",
       "    </tr>\n",
       "    <tr>\n",
       "      <th>197010</th>\n",
       "      <td>9990504</td>\n",
       "      <td>Northern Trust Corporation</td>\n",
       "      <td>G06F</td>\n",
       "    </tr>\n",
       "    <tr>\n",
       "      <th>197430</th>\n",
       "      <td>9992022</td>\n",
       "      <td>Northern Trust Corporation</td>\n",
       "      <td>G06F</td>\n",
       "    </tr>\n",
       "    <tr>\n",
       "      <th>197862</th>\n",
       "      <td>9998286</td>\n",
       "      <td>Accenture Global Services Limited</td>\n",
       "      <td>G06F</td>\n",
       "    </tr>\n",
       "  </tbody>\n",
       "</table>\n",
       "<p>1085 rows × 3 columns</p>\n",
       "</div>"
      ],
      "text/plain": [
       "       patent_id                                 organization patent_group\n",
       "0       10013573  International Business Machines Corporation         G06F\n",
       "4       10022613                                         Tran         A41D\n",
       "2524    10026082        MASTERCARD INTERNATIONAL INCORPORATED         G06Q\n",
       "2542    10044369                      Centri Technology, Inc.         H03M\n",
       "2552    10046228                                         Tran         A41D\n",
       "...          ...                                          ...          ...\n",
       "196568   9967096            Accenture Global Services Limited         G06F\n",
       "196898   9979718                   NEC Corporation Of America         G06F\n",
       "197010   9990504                   Northern Trust Corporation         G06F\n",
       "197430   9992022                   Northern Trust Corporation         G06F\n",
       "197862   9998286            Accenture Global Services Limited         G06F\n",
       "\n",
       "[1085 rows x 3 columns]"
      ]
     },
     "execution_count": 5,
     "metadata": {},
     "output_type": "execute_result"
    }
   ],
   "source": [
    "assignee_data = data.drop_duplicates(['patent_id', 'organization'],keep = 'first')\n",
    "assignee_data"
   ]
  },
  {
   "cell_type": "markdown",
   "metadata": {},
   "source": [
    "## Daten gruppieren\n",
    "Hier werden die Daten gruppiert und gezählt"
   ]
  },
  {
   "cell_type": "code",
   "execution_count": 6,
   "metadata": {},
   "outputs": [
    {
     "data": {
      "text/html": [
       "<div>\n",
       "<style scoped>\n",
       "    .dataframe tbody tr th:only-of-type {\n",
       "        vertical-align: middle;\n",
       "    }\n",
       "\n",
       "    .dataframe tbody tr th {\n",
       "        vertical-align: top;\n",
       "    }\n",
       "\n",
       "    .dataframe thead th {\n",
       "        text-align: right;\n",
       "    }\n",
       "</style>\n",
       "<table border=\"1\" class=\"dataframe\">\n",
       "  <thead>\n",
       "    <tr style=\"text-align: right;\">\n",
       "      <th></th>\n",
       "      <th>patent_id</th>\n",
       "      <th>patent_group</th>\n",
       "    </tr>\n",
       "    <tr>\n",
       "      <th>organization</th>\n",
       "      <th></th>\n",
       "      <th></th>\n",
       "    </tr>\n",
       "  </thead>\n",
       "  <tbody>\n",
       "    <tr>\n",
       "      <th>A9.com, Inc.</th>\n",
       "      <td>1</td>\n",
       "      <td>1</td>\n",
       "    </tr>\n",
       "    <tr>\n",
       "      <th>ADP, LLC</th>\n",
       "      <td>3</td>\n",
       "      <td>3</td>\n",
       "    </tr>\n",
       "    <tr>\n",
       "      <th>ADVANCED MEDICAL SOLUTIONS LIMITED</th>\n",
       "      <td>1</td>\n",
       "      <td>1</td>\n",
       "    </tr>\n",
       "    <tr>\n",
       "      <th>ADVANCED NEW TECHNOLOGIES CO., LTD.</th>\n",
       "      <td>42</td>\n",
       "      <td>34</td>\n",
       "    </tr>\n",
       "    <tr>\n",
       "      <th>ALTR Solutions, Inc.</th>\n",
       "      <td>1</td>\n",
       "      <td>1</td>\n",
       "    </tr>\n",
       "  </tbody>\n",
       "</table>\n",
       "</div>"
      ],
      "text/plain": [
       "                                     patent_id  patent_group\n",
       "organization                                                \n",
       "A9.com, Inc.                                 1             1\n",
       "ADP, LLC                                     3             3\n",
       "ADVANCED MEDICAL SOLUTIONS LIMITED           1             1\n",
       "ADVANCED NEW TECHNOLOGIES CO., LTD.         42            34\n",
       "ALTR Solutions, Inc.                         1             1"
      ]
     },
     "execution_count": 6,
     "metadata": {},
     "output_type": "execute_result"
    }
   ],
   "source": [
    "data_grouped_by_assignee = assignee_data.groupby('organization').count()\n",
    "data_grouped_by_assignee.head()"
   ]
  },
  {
   "cell_type": "markdown",
   "metadata": {},
   "source": [
    "## Top 20 Anmelder identifizieren\n",
    "Hier werden die 20 größten Anmelder ausgewählt"
   ]
  },
  {
   "cell_type": "code",
   "execution_count": 7,
   "metadata": {},
   "outputs": [],
   "source": [
    "data_grouped_by_assignee_largest = data_grouped_by_assignee.nlargest(20, 'patent_id')\n",
    "top_assignees = data_grouped_by_assignee_largest.index"
   ]
  },
  {
   "cell_type": "markdown",
   "metadata": {},
   "source": [
    "## Daten der Top 20 holen\n",
    "Anschließend werden die Datensätze der Top 20 geholt"
   ]
  },
  {
   "cell_type": "code",
   "execution_count": 8,
   "metadata": {},
   "outputs": [
    {
     "data": {
      "text/html": [
       "<div>\n",
       "<style scoped>\n",
       "    .dataframe tbody tr th:only-of-type {\n",
       "        vertical-align: middle;\n",
       "    }\n",
       "\n",
       "    .dataframe tbody tr th {\n",
       "        vertical-align: top;\n",
       "    }\n",
       "\n",
       "    .dataframe thead th {\n",
       "        text-align: right;\n",
       "    }\n",
       "</style>\n",
       "<table border=\"1\" class=\"dataframe\">\n",
       "  <thead>\n",
       "    <tr style=\"text-align: right;\">\n",
       "      <th></th>\n",
       "      <th>patent_id</th>\n",
       "      <th>organization</th>\n",
       "      <th>patent_group</th>\n",
       "    </tr>\n",
       "  </thead>\n",
       "  <tbody>\n",
       "    <tr>\n",
       "      <th>0</th>\n",
       "      <td>10013573</td>\n",
       "      <td>International Business Machines Corporation</td>\n",
       "      <td>G06F</td>\n",
       "    </tr>\n",
       "    <tr>\n",
       "      <th>1</th>\n",
       "      <td>10013573</td>\n",
       "      <td>International Business Machines Corporation</td>\n",
       "      <td>H04L</td>\n",
       "    </tr>\n",
       "    <tr>\n",
       "      <th>2524</th>\n",
       "      <td>10026082</td>\n",
       "      <td>MASTERCARD INTERNATIONAL INCORPORATED</td>\n",
       "      <td>G06Q</td>\n",
       "    </tr>\n",
       "    <tr>\n",
       "      <th>8126</th>\n",
       "      <td>10063529</td>\n",
       "      <td>Accenture Global Services Limited</td>\n",
       "      <td>B29C</td>\n",
       "    </tr>\n",
       "    <tr>\n",
       "      <th>8127</th>\n",
       "      <td>10063529</td>\n",
       "      <td>Accenture Global Services Limited</td>\n",
       "      <td>B33Y</td>\n",
       "    </tr>\n",
       "  </tbody>\n",
       "</table>\n",
       "</div>"
      ],
      "text/plain": [
       "     patent_id                                 organization patent_group\n",
       "0     10013573  International Business Machines Corporation         G06F\n",
       "1     10013573  International Business Machines Corporation         H04L\n",
       "2524  10026082        MASTERCARD INTERNATIONAL INCORPORATED         G06Q\n",
       "8126  10063529            Accenture Global Services Limited         B29C\n",
       "8127  10063529            Accenture Global Services Limited         B33Y"
      ]
     },
     "execution_count": 8,
     "metadata": {},
     "output_type": "execute_result"
    }
   ],
   "source": [
    "data_top_assignees = data[data['organization'].isin(top_assignees)]\n",
    "data_top_assignees.head()"
   ]
  },
  {
   "cell_type": "markdown",
   "metadata": {},
   "source": [
    "## Aggregieren der Daten nach Patentklassen, so dass die Top-Patentklassen ausgewählt werden können\n"
   ]
  },
  {
   "cell_type": "code",
   "execution_count": 9,
   "metadata": {},
   "outputs": [],
   "source": [
    "assignee_patent_group = data.drop_duplicates(['patent_id', 'patent_group'],keep = 'first')\n",
    "data_grouped_by_class = assignee_patent_group.groupby('patent_group').count()\n",
    "data_grouped_by_class_largest = data_grouped_by_class.nlargest(20, 'patent_id')\n",
    "top_groups = data_grouped_by_class_largest.index\n",
    "data_top_groups = data_top_assignees[data_top_assignees[\"patent_group\"].isin(top_groups)]"
   ]
  },
  {
   "cell_type": "markdown",
   "metadata": {},
   "source": [
    "## Gruppieren nach Anmelder und Patentgruppe\n",
    "Hier wird der Dtansatz nach Anmaelder und Patentgruppe gruppiert und die zugehörigen Patente gezählt."
   ]
  },
  {
   "cell_type": "code",
   "execution_count": 10,
   "metadata": {},
   "outputs": [
    {
     "data": {
      "text/html": [
       "<div>\n",
       "<style scoped>\n",
       "    .dataframe tbody tr th:only-of-type {\n",
       "        vertical-align: middle;\n",
       "    }\n",
       "\n",
       "    .dataframe tbody tr th {\n",
       "        vertical-align: top;\n",
       "    }\n",
       "\n",
       "    .dataframe thead th {\n",
       "        text-align: right;\n",
       "    }\n",
       "</style>\n",
       "<table border=\"1\" class=\"dataframe\">\n",
       "  <thead>\n",
       "    <tr style=\"text-align: right;\">\n",
       "      <th></th>\n",
       "      <th></th>\n",
       "      <th>patent_id</th>\n",
       "    </tr>\n",
       "    <tr>\n",
       "      <th>organization</th>\n",
       "      <th>patent_group</th>\n",
       "      <th></th>\n",
       "    </tr>\n",
       "  </thead>\n",
       "  <tbody>\n",
       "    <tr>\n",
       "      <th rowspan=\"4\" valign=\"top\">ADVANCED NEW TECHNOLOGIES CO., LTD.</th>\n",
       "      <th>G06F</th>\n",
       "      <td>27</td>\n",
       "    </tr>\n",
       "    <tr>\n",
       "      <th>G06N</th>\n",
       "      <td>1</td>\n",
       "    </tr>\n",
       "    <tr>\n",
       "      <th>G06Q</th>\n",
       "      <td>16</td>\n",
       "    </tr>\n",
       "    <tr>\n",
       "      <th>H04L</th>\n",
       "      <td>31</td>\n",
       "    </tr>\n",
       "    <tr>\n",
       "      <th>Accenture Global Services Limited</th>\n",
       "      <th>B33Y</th>\n",
       "      <td>2</td>\n",
       "    </tr>\n",
       "  </tbody>\n",
       "</table>\n",
       "</div>"
      ],
      "text/plain": [
       "                                                  patent_id\n",
       "organization                        patent_group           \n",
       "ADVANCED NEW TECHNOLOGIES CO., LTD. G06F                 27\n",
       "                                    G06N                  1\n",
       "                                    G06Q                 16\n",
       "                                    H04L                 31\n",
       "Accenture Global Services Limited   B33Y                  2"
      ]
     },
     "execution_count": 10,
     "metadata": {},
     "output_type": "execute_result"
    }
   ],
   "source": [
    "data_agg = data_top_groups.groupby([\"organization\", \"patent_group\"]).count()\n",
    "data_agg.head()"
   ]
  },
  {
   "cell_type": "code",
   "execution_count": 11,
   "metadata": {},
   "outputs": [],
   "source": [
    "data_matrix = data_agg.unstack()"
   ]
  },
  {
   "cell_type": "code",
   "execution_count": 12,
   "metadata": {},
   "outputs": [
    {
     "data": {
      "text/html": [
       "<div>\n",
       "<style scoped>\n",
       "    .dataframe tbody tr th:only-of-type {\n",
       "        vertical-align: middle;\n",
       "    }\n",
       "\n",
       "    .dataframe tbody tr th {\n",
       "        vertical-align: top;\n",
       "    }\n",
       "\n",
       "    .dataframe thead tr th {\n",
       "        text-align: left;\n",
       "    }\n",
       "\n",
       "    .dataframe thead tr:last-of-type th {\n",
       "        text-align: right;\n",
       "    }\n",
       "</style>\n",
       "<table border=\"1\" class=\"dataframe\">\n",
       "  <thead>\n",
       "    <tr>\n",
       "      <th></th>\n",
       "      <th colspan=\"7\" halign=\"left\">patent_id</th>\n",
       "    </tr>\n",
       "    <tr>\n",
       "      <th>patent_group</th>\n",
       "      <th>A63F</th>\n",
       "      <th>B33Y</th>\n",
       "      <th>G05D</th>\n",
       "      <th>G06F</th>\n",
       "      <th>G06K</th>\n",
       "      <th>G06N</th>\n",
       "      <th>G06Q</th>\n",
       "    </tr>\n",
       "    <tr>\n",
       "      <th>organization</th>\n",
       "      <th></th>\n",
       "      <th></th>\n",
       "      <th></th>\n",
       "      <th></th>\n",
       "      <th></th>\n",
       "      <th></th>\n",
       "      <th></th>\n",
       "    </tr>\n",
       "  </thead>\n",
       "  <tbody>\n",
       "    <tr>\n",
       "      <th>ADVANCED NEW TECHNOLOGIES CO., LTD.</th>\n",
       "      <td>0.0</td>\n",
       "      <td>0.0</td>\n",
       "      <td>0.0</td>\n",
       "      <td>27.0</td>\n",
       "      <td>0.0</td>\n",
       "      <td>1.0</td>\n",
       "      <td>16.0</td>\n",
       "    </tr>\n",
       "    <tr>\n",
       "      <th>Accenture Global Services Limited</th>\n",
       "      <td>0.0</td>\n",
       "      <td>2.0</td>\n",
       "      <td>0.0</td>\n",
       "      <td>27.0</td>\n",
       "      <td>0.0</td>\n",
       "      <td>0.0</td>\n",
       "      <td>15.0</td>\n",
       "    </tr>\n",
       "    <tr>\n",
       "      <th>Alibaba Group Holding Limited</th>\n",
       "      <td>0.0</td>\n",
       "      <td>0.0</td>\n",
       "      <td>0.0</td>\n",
       "      <td>122.0</td>\n",
       "      <td>0.0</td>\n",
       "      <td>0.0</td>\n",
       "      <td>62.0</td>\n",
       "    </tr>\n",
       "    <tr>\n",
       "      <th>Bahga</th>\n",
       "      <td>0.0</td>\n",
       "      <td>0.0</td>\n",
       "      <td>0.0</td>\n",
       "      <td>5.0</td>\n",
       "      <td>0.0</td>\n",
       "      <td>0.0</td>\n",
       "      <td>11.0</td>\n",
       "    </tr>\n",
       "    <tr>\n",
       "      <th>Blockchain ASICs Inc.</th>\n",
       "      <td>0.0</td>\n",
       "      <td>0.0</td>\n",
       "      <td>0.0</td>\n",
       "      <td>7.0</td>\n",
       "      <td>0.0</td>\n",
       "      <td>0.0</td>\n",
       "      <td>0.0</td>\n",
       "    </tr>\n",
       "  </tbody>\n",
       "</table>\n",
       "</div>"
      ],
      "text/plain": [
       "                                    patent_id                                 \n",
       "patent_group                             A63F B33Y G05D   G06F G06K G06N  G06Q\n",
       "organization                                                                  \n",
       "ADVANCED NEW TECHNOLOGIES CO., LTD.       0.0  0.0  0.0   27.0  0.0  1.0  16.0\n",
       "Accenture Global Services Limited         0.0  2.0  0.0   27.0  0.0  0.0  15.0\n",
       "Alibaba Group Holding Limited             0.0  0.0  0.0  122.0  0.0  0.0  62.0\n",
       "Bahga                                     0.0  0.0  0.0    5.0  0.0  0.0  11.0\n",
       "Blockchain ASICs Inc.                     0.0  0.0  0.0    7.0  0.0  0.0   0.0"
      ]
     },
     "execution_count": 12,
     "metadata": {},
     "output_type": "execute_result"
    }
   ],
   "source": [
    "data_matrix.fillna(0, inplace = True)\n",
    "data_matrix.iloc[0:5, 0:7].head()"
   ]
  },
  {
   "cell_type": "markdown",
   "metadata": {},
   "source": [
    "## Variable setzen für die Anzahl der Cluster\n",
    "In dieser Zelle wurde eine Variable gesetzt um möglichst einfach die Nazahl der Cluster zu testen."
   ]
  },
  {
   "cell_type": "code",
   "execution_count": 13,
   "metadata": {},
   "outputs": [],
   "source": [
    "anzahl_cluster = 3"
   ]
  },
  {
   "cell_type": "markdown",
   "metadata": {},
   "source": [
    "## Berechnung Elbow-Kriterium\n",
    "In diesem Block wird das Elbow-Kriterium berechnet um einen Hinweis für die Richtige Anzahl an Clustern zu bekommen."
   ]
  },
  {
   "cell_type": "code",
   "execution_count": 14,
   "metadata": {},
   "outputs": [
    {
     "data": {
      "image/png": "[encoded data removed]",
      "text/plain": [
       "<Figure size 576x396 with 2 Axes>"
      ]
     },
     "metadata": {},
     "output_type": "display_data"
    },
    {
     "data": {
      "text/plain": [
       "<AxesSubplot:title={'center':'Distortion Score Elbow for KMeans Clustering'}, xlabel='k', ylabel='distortion score'>"
      ]
     },
     "execution_count": 14,
     "metadata": {},
     "output_type": "execute_result"
    }
   ],
   "source": [
    "model = KMeans()\n",
    "visualizer = KElbowVisualizer(model, k=10)\n",
    "visualizer.fit(data_matrix)\n",
    "visualizer.poof()"
   ]
  },
  {
   "cell_type": "markdown",
   "metadata": {},
   "source": [
    "## Silhoette Score\n",
    "Hier wird der Silhouette Score berechnet um zu ermitteln "
   ]
  },
  {
   "cell_type": "code",
   "execution_count": 15,
   "metadata": {},
   "outputs": [
    {
     "data": {
      "image/png": "[encoded data removed]",
      "text/plain": [
       "<Figure size 576x396 with 1 Axes>"
      ]
     },
     "metadata": {},
     "output_type": "display_data"
    },
    {
     "data": {
      "text/plain": [
       "<AxesSubplot:title={'center':'Silhouette Plot of KMeans Clustering for 20 Samples in 3 Centers'}, xlabel='silhouette coefficient values', ylabel='cluster label'>"
      ]
     },
     "execution_count": 15,
     "metadata": {},
     "output_type": "execute_result"
    }
   ],
   "source": [
    "model = KMeans(anzahl_cluster)\n",
    "visualizer = SilhouetteVisualizer(model)\n",
    "visualizer.fit(data_matrix)\n",
    "visualizer.poof()"
   ]
  },
  {
   "cell_type": "markdown",
   "metadata": {},
   "source": [
    "## Cluster erstellen"
   ]
  },
  {
   "cell_type": "code",
   "execution_count": 16,
   "metadata": {},
   "outputs": [],
   "source": [
    "cluster = KMeans(n_clusters=anzahl_cluster).fit(data_matrix)"
   ]
  },
  {
   "cell_type": "markdown",
   "metadata": {},
   "source": [
    "## Cluster als DataFrame "
   ]
  },
  {
   "cell_type": "code",
   "execution_count": 17,
   "metadata": {},
   "outputs": [
    {
     "data": {
      "text/html": [
       "<div>\n",
       "<style scoped>\n",
       "    .dataframe tbody tr th:only-of-type {\n",
       "        vertical-align: middle;\n",
       "    }\n",
       "\n",
       "    .dataframe tbody tr th {\n",
       "        vertical-align: top;\n",
       "    }\n",
       "\n",
       "    .dataframe thead th {\n",
       "        text-align: right;\n",
       "    }\n",
       "</style>\n",
       "<table border=\"1\" class=\"dataframe\">\n",
       "  <thead>\n",
       "    <tr style=\"text-align: right;\">\n",
       "      <th></th>\n",
       "      <th>Cluster</th>\n",
       "    </tr>\n",
       "    <tr>\n",
       "      <th>organization</th>\n",
       "      <th></th>\n",
       "    </tr>\n",
       "  </thead>\n",
       "  <tbody>\n",
       "    <tr>\n",
       "      <th>EMC IP Holding Company LLC</th>\n",
       "      <td>0</td>\n",
       "    </tr>\n",
       "    <tr>\n",
       "      <th>NEC Corporation Of America</th>\n",
       "      <td>0</td>\n",
       "    </tr>\n",
       "    <tr>\n",
       "      <th>Microsoft Technology Licensing, LLC</th>\n",
       "      <td>0</td>\n",
       "    </tr>\n",
       "    <tr>\n",
       "      <th>Madisetti</th>\n",
       "      <td>0</td>\n",
       "    </tr>\n",
       "    <tr>\n",
       "      <th>MASTERCARD INTERNATIONAL INCORPORATED</th>\n",
       "      <td>0</td>\n",
       "    </tr>\n",
       "    <tr>\n",
       "      <th>Intel Corporation</th>\n",
       "      <td>0</td>\n",
       "    </tr>\n",
       "    <tr>\n",
       "      <th>Guardtime SA</th>\n",
       "      <td>0</td>\n",
       "    </tr>\n",
       "    <tr>\n",
       "      <th>GSC Secrypt, LLC</th>\n",
       "      <td>0</td>\n",
       "    </tr>\n",
       "    <tr>\n",
       "      <th>STATE FARM MUTUAL AUTOMOBILE INSURANCE COMPANY</th>\n",
       "      <td>0</td>\n",
       "    </tr>\n",
       "    <tr>\n",
       "      <th>Wells Fargo Bank, N.A.</th>\n",
       "      <td>0</td>\n",
       "    </tr>\n",
       "    <tr>\n",
       "      <th>Cisco Technology, Inc.</th>\n",
       "      <td>0</td>\n",
       "    </tr>\n",
       "    <tr>\n",
       "      <th>Capital One Services, LLC</th>\n",
       "      <td>0</td>\n",
       "    </tr>\n",
       "    <tr>\n",
       "      <th>COINPLUG, INC.</th>\n",
       "      <td>0</td>\n",
       "    </tr>\n",
       "    <tr>\n",
       "      <th>Blockchain ASICs Inc.</th>\n",
       "      <td>0</td>\n",
       "    </tr>\n",
       "    <tr>\n",
       "      <th>Bahga</th>\n",
       "      <td>0</td>\n",
       "    </tr>\n",
       "    <tr>\n",
       "      <th>Cognitive Scale, Inc.</th>\n",
       "      <td>0</td>\n",
       "    </tr>\n",
       "    <tr>\n",
       "      <th>International Business Machines Corporation</th>\n",
       "      <td>1</td>\n",
       "    </tr>\n",
       "    <tr>\n",
       "      <th>Alibaba Group Holding Limited</th>\n",
       "      <td>1</td>\n",
       "    </tr>\n",
       "    <tr>\n",
       "      <th>Accenture Global Services Limited</th>\n",
       "      <td>2</td>\n",
       "    </tr>\n",
       "    <tr>\n",
       "      <th>ADVANCED NEW TECHNOLOGIES CO., LTD.</th>\n",
       "      <td>2</td>\n",
       "    </tr>\n",
       "  </tbody>\n",
       "</table>\n",
       "</div>"
      ],
      "text/plain": [
       "                                                Cluster\n",
       "organization                                           \n",
       "EMC IP Holding Company LLC                            0\n",
       "NEC Corporation Of America                            0\n",
       "Microsoft Technology Licensing, LLC                   0\n",
       "Madisetti                                             0\n",
       "MASTERCARD INTERNATIONAL INCORPORATED                 0\n",
       "Intel Corporation                                     0\n",
       "Guardtime SA                                          0\n",
       "GSC Secrypt, LLC                                      0\n",
       "STATE FARM MUTUAL AUTOMOBILE INSURANCE COMPANY        0\n",
       "Wells Fargo Bank, N.A.                                0\n",
       "Cisco Technology, Inc.                                0\n",
       "Capital One Services, LLC                             0\n",
       "COINPLUG, INC.                                        0\n",
       "Blockchain ASICs Inc.                                 0\n",
       "Bahga                                                 0\n",
       "Cognitive Scale, Inc.                                 0\n",
       "International Business Machines Corporation           1\n",
       "Alibaba Group Holding Limited                         1\n",
       "Accenture Global Services Limited                     2\n",
       "ADVANCED NEW TECHNOLOGIES CO., LTD.                   2"
      ]
     },
     "execution_count": 17,
     "metadata": {},
     "output_type": "execute_result"
    }
   ],
   "source": [
    "data_cluster = pd.DataFrame({\"Cluster\":cluster.labels_}, index = data_matrix.index)\n",
    "data_cluster.sort_values(\"Cluster\")"
   ]
  },
  {
   "cell_type": "markdown",
   "metadata": {},
   "source": [
    "## Ähnlichkeit berechnen\n",
    "Hier wird mithilfe der scikitlearn Funktion die Kosinusähnlichkeit berechnet"
   ]
  },
  {
   "cell_type": "code",
   "execution_count": 18,
   "metadata": {},
   "outputs": [],
   "source": [
    "similarity = cosine_similarity(data_matrix)"
   ]
  },
  {
   "cell_type": "markdown",
   "metadata": {},
   "source": [
    "## Ähnlichkeitsmatrix in ein DataFrame überführen"
   ]
  },
  {
   "cell_type": "code",
   "execution_count": 19,
   "metadata": {},
   "outputs": [
    {
     "data": {
      "text/html": [
       "<div>\n",
       "<style scoped>\n",
       "    .dataframe tbody tr th:only-of-type {\n",
       "        vertical-align: middle;\n",
       "    }\n",
       "\n",
       "    .dataframe tbody tr th {\n",
       "        vertical-align: top;\n",
       "    }\n",
       "\n",
       "    .dataframe thead th {\n",
       "        text-align: right;\n",
       "    }\n",
       "</style>\n",
       "<table border=\"1\" class=\"dataframe\">\n",
       "  <thead>\n",
       "    <tr style=\"text-align: right;\">\n",
       "      <th>organization</th>\n",
       "      <th>ADVANCED NEW TECHNOLOGIES CO., LTD.</th>\n",
       "      <th>Accenture Global Services Limited</th>\n",
       "    </tr>\n",
       "    <tr>\n",
       "      <th>organization</th>\n",
       "      <th></th>\n",
       "      <th></th>\n",
       "    </tr>\n",
       "  </thead>\n",
       "  <tbody>\n",
       "    <tr>\n",
       "      <th>ADVANCED NEW TECHNOLOGIES CO., LTD.</th>\n",
       "      <td>1.000000</td>\n",
       "      <td>0.990196</td>\n",
       "    </tr>\n",
       "    <tr>\n",
       "      <th>Accenture Global Services Limited</th>\n",
       "      <td>0.990196</td>\n",
       "      <td>1.000000</td>\n",
       "    </tr>\n",
       "    <tr>\n",
       "      <th>Alibaba Group Holding Limited</th>\n",
       "      <td>0.997281</td>\n",
       "      <td>0.992333</td>\n",
       "    </tr>\n",
       "    <tr>\n",
       "      <th>Bahga</th>\n",
       "      <td>0.897307</td>\n",
       "      <td>0.881556</td>\n",
       "    </tr>\n",
       "    <tr>\n",
       "      <th>Blockchain ASICs Inc.</th>\n",
       "      <td>0.929459</td>\n",
       "      <td>0.932568</td>\n",
       "    </tr>\n",
       "  </tbody>\n",
       "</table>\n",
       "</div>"
      ],
      "text/plain": [
       "organization                         ADVANCED NEW TECHNOLOGIES CO., LTD.  \\\n",
       "organization                                                               \n",
       "ADVANCED NEW TECHNOLOGIES CO., LTD.                             1.000000   \n",
       "Accenture Global Services Limited                               0.990196   \n",
       "Alibaba Group Holding Limited                                   0.997281   \n",
       "Bahga                                                           0.897307   \n",
       "Blockchain ASICs Inc.                                           0.929459   \n",
       "\n",
       "organization                         Accenture Global Services Limited  \n",
       "organization                                                            \n",
       "ADVANCED NEW TECHNOLOGIES CO., LTD.                           0.990196  \n",
       "Accenture Global Services Limited                             1.000000  \n",
       "Alibaba Group Holding Limited                                 0.992333  \n",
       "Bahga                                                         0.881556  \n",
       "Blockchain ASICs Inc.                                         0.932568  "
      ]
     },
     "execution_count": 19,
     "metadata": {},
     "output_type": "execute_result"
    }
   ],
   "source": [
    "sim_df = pd.DataFrame(similarity, index=data_matrix.index, columns = data_matrix.index)\n",
    "sim_df.iloc[0:10, 0:2].head()"
   ]
  },
  {
   "cell_type": "markdown",
   "metadata": {},
   "source": [
    "## Erstellen eines Multiindexes\n",
    "Aus Spalten und Zeilen wird nun ein Multiindex"
   ]
  },
  {
   "cell_type": "code",
   "execution_count": 20,
   "metadata": {},
   "outputs": [],
   "source": [
    "sim_df = sim_df.stack()"
   ]
  },
  {
   "cell_type": "markdown",
   "metadata": {},
   "source": [
    "## Pandas Series in ein DataFrame umwandeln"
   ]
  },
  {
   "cell_type": "code",
   "execution_count": 21,
   "metadata": {},
   "outputs": [
    {
     "data": {
      "text/html": [
       "<div>\n",
       "<style scoped>\n",
       "    .dataframe tbody tr th:only-of-type {\n",
       "        vertical-align: middle;\n",
       "    }\n",
       "\n",
       "    .dataframe tbody tr th {\n",
       "        vertical-align: top;\n",
       "    }\n",
       "\n",
       "    .dataframe thead th {\n",
       "        text-align: right;\n",
       "    }\n",
       "</style>\n",
       "<table border=\"1\" class=\"dataframe\">\n",
       "  <thead>\n",
       "    <tr style=\"text-align: right;\">\n",
       "      <th></th>\n",
       "      <th></th>\n",
       "      <th>0</th>\n",
       "    </tr>\n",
       "    <tr>\n",
       "      <th>organization</th>\n",
       "      <th>organization</th>\n",
       "      <th></th>\n",
       "    </tr>\n",
       "  </thead>\n",
       "  <tbody>\n",
       "    <tr>\n",
       "      <th rowspan=\"5\" valign=\"top\">ADVANCED NEW TECHNOLOGIES CO., LTD.</th>\n",
       "      <th>ADVANCED NEW TECHNOLOGIES CO., LTD.</th>\n",
       "      <td>1.000000</td>\n",
       "    </tr>\n",
       "    <tr>\n",
       "      <th>Accenture Global Services Limited</th>\n",
       "      <td>0.990196</td>\n",
       "    </tr>\n",
       "    <tr>\n",
       "      <th>Alibaba Group Holding Limited</th>\n",
       "      <td>0.997281</td>\n",
       "    </tr>\n",
       "    <tr>\n",
       "      <th>Bahga</th>\n",
       "      <td>0.897307</td>\n",
       "    </tr>\n",
       "    <tr>\n",
       "      <th>Blockchain ASICs Inc.</th>\n",
       "      <td>0.929459</td>\n",
       "    </tr>\n",
       "  </tbody>\n",
       "</table>\n",
       "</div>"
      ],
      "text/plain": [
       "                                                                                0\n",
       "organization                        organization                                 \n",
       "ADVANCED NEW TECHNOLOGIES CO., LTD. ADVANCED NEW TECHNOLOGIES CO., LTD.  1.000000\n",
       "                                    Accenture Global Services Limited    0.990196\n",
       "                                    Alibaba Group Holding Limited        0.997281\n",
       "                                    Bahga                                0.897307\n",
       "                                    Blockchain ASICs Inc.                0.929459"
      ]
     },
     "execution_count": 21,
     "metadata": {},
     "output_type": "execute_result"
    }
   ],
   "source": [
    "sim_df = pd.DataFrame(sim_df)\n",
    "sim_df.head()"
   ]
  },
  {
   "cell_type": "markdown",
   "metadata": {},
   "source": [
    "## Umbenennen der Indexe\n",
    "Anschließend werden die beiden Indexe umbenannt für eine leichtere Unterscheidung im weiteren Verlauf"
   ]
  },
  {
   "cell_type": "code",
   "execution_count": 22,
   "metadata": {},
   "outputs": [
    {
     "data": {
      "text/html": [
       "<div>\n",
       "<style scoped>\n",
       "    .dataframe tbody tr th:only-of-type {\n",
       "        vertical-align: middle;\n",
       "    }\n",
       "\n",
       "    .dataframe tbody tr th {\n",
       "        vertical-align: top;\n",
       "    }\n",
       "\n",
       "    .dataframe thead th {\n",
       "        text-align: right;\n",
       "    }\n",
       "</style>\n",
       "<table border=\"1\" class=\"dataframe\">\n",
       "  <thead>\n",
       "    <tr style=\"text-align: right;\">\n",
       "      <th></th>\n",
       "      <th></th>\n",
       "      <th>0</th>\n",
       "    </tr>\n",
       "    <tr>\n",
       "      <th>Org_A</th>\n",
       "      <th>Org_B</th>\n",
       "      <th></th>\n",
       "    </tr>\n",
       "  </thead>\n",
       "  <tbody>\n",
       "    <tr>\n",
       "      <th rowspan=\"5\" valign=\"top\">ADVANCED NEW TECHNOLOGIES CO., LTD.</th>\n",
       "      <th>ADVANCED NEW TECHNOLOGIES CO., LTD.</th>\n",
       "      <td>1.000000</td>\n",
       "    </tr>\n",
       "    <tr>\n",
       "      <th>Accenture Global Services Limited</th>\n",
       "      <td>0.990196</td>\n",
       "    </tr>\n",
       "    <tr>\n",
       "      <th>Alibaba Group Holding Limited</th>\n",
       "      <td>0.997281</td>\n",
       "    </tr>\n",
       "    <tr>\n",
       "      <th>Bahga</th>\n",
       "      <td>0.897307</td>\n",
       "    </tr>\n",
       "    <tr>\n",
       "      <th>Blockchain ASICs Inc.</th>\n",
       "      <td>0.929459</td>\n",
       "    </tr>\n",
       "  </tbody>\n",
       "</table>\n",
       "</div>"
      ],
      "text/plain": [
       "                                                                                0\n",
       "Org_A                               Org_B                                        \n",
       "ADVANCED NEW TECHNOLOGIES CO., LTD. ADVANCED NEW TECHNOLOGIES CO., LTD.  1.000000\n",
       "                                    Accenture Global Services Limited    0.990196\n",
       "                                    Alibaba Group Holding Limited        0.997281\n",
       "                                    Bahga                                0.897307\n",
       "                                    Blockchain ASICs Inc.                0.929459"
      ]
     },
     "execution_count": 22,
     "metadata": {},
     "output_type": "execute_result"
    }
   ],
   "source": [
    "# Ähnlichkeiten im DataFrame zusammenführen\n",
    "sim_df.index.rename([\"Org_A\", \"Org_B\"], inplace = True)\n",
    "sim_df.head()"
   ]
  },
  {
   "cell_type": "markdown",
   "metadata": {},
   "source": [
    "## Zusammenführen der beiden Spalten mit den Clustern"
   ]
  },
  {
   "cell_type": "code",
   "execution_count": 23,
   "metadata": {},
   "outputs": [
    {
     "data": {
      "text/html": [
       "<div>\n",
       "<style scoped>\n",
       "    .dataframe tbody tr th:only-of-type {\n",
       "        vertical-align: middle;\n",
       "    }\n",
       "\n",
       "    .dataframe tbody tr th {\n",
       "        vertical-align: top;\n",
       "    }\n",
       "\n",
       "    .dataframe thead th {\n",
       "        text-align: right;\n",
       "    }\n",
       "</style>\n",
       "<table border=\"1\" class=\"dataframe\">\n",
       "  <thead>\n",
       "    <tr style=\"text-align: right;\">\n",
       "      <th></th>\n",
       "      <th></th>\n",
       "      <th>0</th>\n",
       "      <th>Cluster_x</th>\n",
       "      <th>Cluster_y</th>\n",
       "    </tr>\n",
       "    <tr>\n",
       "      <th>Org_A</th>\n",
       "      <th>Org_B</th>\n",
       "      <th></th>\n",
       "      <th></th>\n",
       "      <th></th>\n",
       "    </tr>\n",
       "  </thead>\n",
       "  <tbody>\n",
       "    <tr>\n",
       "      <th>ADVANCED NEW TECHNOLOGIES CO., LTD.</th>\n",
       "      <th>ADVANCED NEW TECHNOLOGIES CO., LTD.</th>\n",
       "      <td>1.000000</td>\n",
       "      <td>2</td>\n",
       "      <td>2</td>\n",
       "    </tr>\n",
       "    <tr>\n",
       "      <th>Accenture Global Services Limited</th>\n",
       "      <th>ADVANCED NEW TECHNOLOGIES CO., LTD.</th>\n",
       "      <td>0.990196</td>\n",
       "      <td>2</td>\n",
       "      <td>2</td>\n",
       "    </tr>\n",
       "    <tr>\n",
       "      <th>Alibaba Group Holding Limited</th>\n",
       "      <th>ADVANCED NEW TECHNOLOGIES CO., LTD.</th>\n",
       "      <td>0.997281</td>\n",
       "      <td>1</td>\n",
       "      <td>2</td>\n",
       "    </tr>\n",
       "    <tr>\n",
       "      <th>Bahga</th>\n",
       "      <th>ADVANCED NEW TECHNOLOGIES CO., LTD.</th>\n",
       "      <td>0.897307</td>\n",
       "      <td>0</td>\n",
       "      <td>2</td>\n",
       "    </tr>\n",
       "    <tr>\n",
       "      <th>Blockchain ASICs Inc.</th>\n",
       "      <th>ADVANCED NEW TECHNOLOGIES CO., LTD.</th>\n",
       "      <td>0.929459</td>\n",
       "      <td>0</td>\n",
       "      <td>2</td>\n",
       "    </tr>\n",
       "  </tbody>\n",
       "</table>\n",
       "</div>"
      ],
      "text/plain": [
       "                                                                                0  \\\n",
       "Org_A                               Org_B                                           \n",
       "ADVANCED NEW TECHNOLOGIES CO., LTD. ADVANCED NEW TECHNOLOGIES CO., LTD.  1.000000   \n",
       "Accenture Global Services Limited   ADVANCED NEW TECHNOLOGIES CO., LTD.  0.990196   \n",
       "Alibaba Group Holding Limited       ADVANCED NEW TECHNOLOGIES CO., LTD.  0.997281   \n",
       "Bahga                               ADVANCED NEW TECHNOLOGIES CO., LTD.  0.897307   \n",
       "Blockchain ASICs Inc.               ADVANCED NEW TECHNOLOGIES CO., LTD.  0.929459   \n",
       "\n",
       "                                                                         Cluster_x  \\\n",
       "Org_A                               Org_B                                            \n",
       "ADVANCED NEW TECHNOLOGIES CO., LTD. ADVANCED NEW TECHNOLOGIES CO., LTD.          2   \n",
       "Accenture Global Services Limited   ADVANCED NEW TECHNOLOGIES CO., LTD.          2   \n",
       "Alibaba Group Holding Limited       ADVANCED NEW TECHNOLOGIES CO., LTD.          1   \n",
       "Bahga                               ADVANCED NEW TECHNOLOGIES CO., LTD.          0   \n",
       "Blockchain ASICs Inc.               ADVANCED NEW TECHNOLOGIES CO., LTD.          0   \n",
       "\n",
       "                                                                         Cluster_y  \n",
       "Org_A                               Org_B                                           \n",
       "ADVANCED NEW TECHNOLOGIES CO., LTD. ADVANCED NEW TECHNOLOGIES CO., LTD.          2  \n",
       "Accenture Global Services Limited   ADVANCED NEW TECHNOLOGIES CO., LTD.          2  \n",
       "Alibaba Group Holding Limited       ADVANCED NEW TECHNOLOGIES CO., LTD.          2  \n",
       "Bahga                               ADVANCED NEW TECHNOLOGIES CO., LTD.          2  \n",
       "Blockchain ASICs Inc.               ADVANCED NEW TECHNOLOGIES CO., LTD.          2  "
      ]
     },
     "execution_count": 23,
     "metadata": {},
     "output_type": "execute_result"
    }
   ],
   "source": [
    "merged = sim_df.merge(data_cluster, left_on = \"Org_A\", right_index = True)\n",
    "merged = merged.merge(data_cluster, left_on = \"Org_B\", right_index = True)\n",
    "merged.head()"
   ]
  },
  {
   "cell_type": "markdown",
   "metadata": {},
   "source": [
    "## Zurücksetzen des Indexes und Umbenennen der Spalten\n",
    "Nun wird der Index zurückgesetzt und somit wird Org_a und Org_B zur normalen Spalte. Außerdem werden die Spalten zur Übersichtlichkeit umnbenannt"
   ]
  },
  {
   "cell_type": "code",
   "execution_count": 24,
   "metadata": {},
   "outputs": [
    {
     "data": {
      "text/html": [
       "<div>\n",
       "<style scoped>\n",
       "    .dataframe tbody tr th:only-of-type {\n",
       "        vertical-align: middle;\n",
       "    }\n",
       "\n",
       "    .dataframe tbody tr th {\n",
       "        vertical-align: top;\n",
       "    }\n",
       "\n",
       "    .dataframe thead th {\n",
       "        text-align: right;\n",
       "    }\n",
       "</style>\n",
       "<table border=\"1\" class=\"dataframe\">\n",
       "  <thead>\n",
       "    <tr style=\"text-align: right;\">\n",
       "      <th></th>\n",
       "      <th>Org_A</th>\n",
       "      <th>Org_B</th>\n",
       "      <th>Similarity</th>\n",
       "      <th>Cluster_A</th>\n",
       "      <th>Cluster_B</th>\n",
       "    </tr>\n",
       "  </thead>\n",
       "  <tbody>\n",
       "    <tr>\n",
       "      <th>0</th>\n",
       "      <td>ADVANCED NEW TECHNOLOGIES CO., LTD.</td>\n",
       "      <td>ADVANCED NEW TECHNOLOGIES CO., LTD.</td>\n",
       "      <td>1.000000</td>\n",
       "      <td>2</td>\n",
       "      <td>2</td>\n",
       "    </tr>\n",
       "    <tr>\n",
       "      <th>1</th>\n",
       "      <td>Accenture Global Services Limited</td>\n",
       "      <td>ADVANCED NEW TECHNOLOGIES CO., LTD.</td>\n",
       "      <td>0.990196</td>\n",
       "      <td>2</td>\n",
       "      <td>2</td>\n",
       "    </tr>\n",
       "    <tr>\n",
       "      <th>2</th>\n",
       "      <td>Alibaba Group Holding Limited</td>\n",
       "      <td>ADVANCED NEW TECHNOLOGIES CO., LTD.</td>\n",
       "      <td>0.997281</td>\n",
       "      <td>1</td>\n",
       "      <td>2</td>\n",
       "    </tr>\n",
       "    <tr>\n",
       "      <th>3</th>\n",
       "      <td>Bahga</td>\n",
       "      <td>ADVANCED NEW TECHNOLOGIES CO., LTD.</td>\n",
       "      <td>0.897307</td>\n",
       "      <td>0</td>\n",
       "      <td>2</td>\n",
       "    </tr>\n",
       "    <tr>\n",
       "      <th>4</th>\n",
       "      <td>Blockchain ASICs Inc.</td>\n",
       "      <td>ADVANCED NEW TECHNOLOGIES CO., LTD.</td>\n",
       "      <td>0.929459</td>\n",
       "      <td>0</td>\n",
       "      <td>2</td>\n",
       "    </tr>\n",
       "  </tbody>\n",
       "</table>\n",
       "</div>"
      ],
      "text/plain": [
       "                                 Org_A                                Org_B  \\\n",
       "0  ADVANCED NEW TECHNOLOGIES CO., LTD.  ADVANCED NEW TECHNOLOGIES CO., LTD.   \n",
       "1    Accenture Global Services Limited  ADVANCED NEW TECHNOLOGIES CO., LTD.   \n",
       "2        Alibaba Group Holding Limited  ADVANCED NEW TECHNOLOGIES CO., LTD.   \n",
       "3                                Bahga  ADVANCED NEW TECHNOLOGIES CO., LTD.   \n",
       "4                Blockchain ASICs Inc.  ADVANCED NEW TECHNOLOGIES CO., LTD.   \n",
       "\n",
       "   Similarity  Cluster_A  Cluster_B  \n",
       "0    1.000000          2          2  \n",
       "1    0.990196          2          2  \n",
       "2    0.997281          1          2  \n",
       "3    0.897307          0          2  \n",
       "4    0.929459          0          2  "
      ]
     },
     "execution_count": 24,
     "metadata": {},
     "output_type": "execute_result"
    }
   ],
   "source": [
    "merged.reset_index(inplace = True)\n",
    "merged.columns = [\"Org_A\", \"Org_B\", \"Similarity\", \"Cluster_A\", \"Cluster_B\"]\n",
    "merged.head()"
   ]
  },
  {
   "cell_type": "code",
   "execution_count": 25,
   "metadata": {},
   "outputs": [],
   "source": [
    "##\n"
   ]
  },
  {
   "cell_type": "code",
   "execution_count": 26,
   "metadata": {},
   "outputs": [
    {
     "data": {
      "text/html": [
       "<div>\n",
       "<style scoped>\n",
       "    .dataframe tbody tr th:only-of-type {\n",
       "        vertical-align: middle;\n",
       "    }\n",
       "\n",
       "    .dataframe tbody tr th {\n",
       "        vertical-align: top;\n",
       "    }\n",
       "\n",
       "    .dataframe thead th {\n",
       "        text-align: right;\n",
       "    }\n",
       "</style>\n",
       "<table border=\"1\" class=\"dataframe\">\n",
       "  <thead>\n",
       "    <tr style=\"text-align: right;\">\n",
       "      <th></th>\n",
       "      <th>Org_A</th>\n",
       "      <th>Org_B</th>\n",
       "      <th>Similarity</th>\n",
       "      <th>Cluster_A</th>\n",
       "      <th>Cluster_B</th>\n",
       "    </tr>\n",
       "  </thead>\n",
       "  <tbody>\n",
       "    <tr>\n",
       "      <th>399</th>\n",
       "      <td>Wells Fargo Bank, N.A.</td>\n",
       "      <td>Wells Fargo Bank, N.A.</td>\n",
       "      <td>1.000000</td>\n",
       "      <td>0</td>\n",
       "      <td>0</td>\n",
       "    </tr>\n",
       "    <tr>\n",
       "      <th>42</th>\n",
       "      <td>Alibaba Group Holding Limited</td>\n",
       "      <td>Alibaba Group Holding Limited</td>\n",
       "      <td>1.000000</td>\n",
       "      <td>1</td>\n",
       "      <td>1</td>\n",
       "    </tr>\n",
       "    <tr>\n",
       "      <th>84</th>\n",
       "      <td>Blockchain ASICs Inc.</td>\n",
       "      <td>Blockchain ASICs Inc.</td>\n",
       "      <td>1.000000</td>\n",
       "      <td>0</td>\n",
       "      <td>0</td>\n",
       "    </tr>\n",
       "    <tr>\n",
       "      <th>90</th>\n",
       "      <td>GSC Secrypt, LLC</td>\n",
       "      <td>Blockchain ASICs Inc.</td>\n",
       "      <td>1.000000</td>\n",
       "      <td>0</td>\n",
       "      <td>0</td>\n",
       "    </tr>\n",
       "    <tr>\n",
       "      <th>204</th>\n",
       "      <td>Blockchain ASICs Inc.</td>\n",
       "      <td>GSC Secrypt, LLC</td>\n",
       "      <td>1.000000</td>\n",
       "      <td>0</td>\n",
       "      <td>0</td>\n",
       "    </tr>\n",
       "    <tr>\n",
       "      <th>...</th>\n",
       "      <td>...</td>\n",
       "      <td>...</td>\n",
       "      <td>...</td>\n",
       "      <td>...</td>\n",
       "      <td>...</td>\n",
       "    </tr>\n",
       "    <tr>\n",
       "      <th>188</th>\n",
       "      <td>Cognitive Scale, Inc.</td>\n",
       "      <td>EMC IP Holding Company LLC</td>\n",
       "      <td>0.339827</td>\n",
       "      <td>0</td>\n",
       "      <td>0</td>\n",
       "    </tr>\n",
       "    <tr>\n",
       "      <th>388</th>\n",
       "      <td>Cognitive Scale, Inc.</td>\n",
       "      <td>Wells Fargo Bank, N.A.</td>\n",
       "      <td>0.327785</td>\n",
       "      <td>0</td>\n",
       "      <td>0</td>\n",
       "    </tr>\n",
       "    <tr>\n",
       "      <th>179</th>\n",
       "      <td>Wells Fargo Bank, N.A.</td>\n",
       "      <td>Cognitive Scale, Inc.</td>\n",
       "      <td>0.327785</td>\n",
       "      <td>0</td>\n",
       "      <td>0</td>\n",
       "    </tr>\n",
       "    <tr>\n",
       "      <th>228</th>\n",
       "      <td>Cognitive Scale, Inc.</td>\n",
       "      <td>Guardtime SA</td>\n",
       "      <td>0.316942</td>\n",
       "      <td>0</td>\n",
       "      <td>0</td>\n",
       "    </tr>\n",
       "    <tr>\n",
       "      <th>171</th>\n",
       "      <td>Guardtime SA</td>\n",
       "      <td>Cognitive Scale, Inc.</td>\n",
       "      <td>0.316942</td>\n",
       "      <td>0</td>\n",
       "      <td>0</td>\n",
       "    </tr>\n",
       "  </tbody>\n",
       "</table>\n",
       "<p>400 rows × 5 columns</p>\n",
       "</div>"
      ],
      "text/plain": [
       "                             Org_A                          Org_B  Similarity  \\\n",
       "399         Wells Fargo Bank, N.A.         Wells Fargo Bank, N.A.    1.000000   \n",
       "42   Alibaba Group Holding Limited  Alibaba Group Holding Limited    1.000000   \n",
       "84           Blockchain ASICs Inc.          Blockchain ASICs Inc.    1.000000   \n",
       "90                GSC Secrypt, LLC          Blockchain ASICs Inc.    1.000000   \n",
       "204          Blockchain ASICs Inc.               GSC Secrypt, LLC    1.000000   \n",
       "..                             ...                            ...         ...   \n",
       "188          Cognitive Scale, Inc.     EMC IP Holding Company LLC    0.339827   \n",
       "388          Cognitive Scale, Inc.         Wells Fargo Bank, N.A.    0.327785   \n",
       "179         Wells Fargo Bank, N.A.          Cognitive Scale, Inc.    0.327785   \n",
       "228          Cognitive Scale, Inc.                   Guardtime SA    0.316942   \n",
       "171                   Guardtime SA          Cognitive Scale, Inc.    0.316942   \n",
       "\n",
       "     Cluster_A  Cluster_B  \n",
       "399          0          0  \n",
       "42           1          1  \n",
       "84           0          0  \n",
       "90           0          0  \n",
       "204          0          0  \n",
       "..         ...        ...  \n",
       "188          0          0  \n",
       "388          0          0  \n",
       "179          0          0  \n",
       "228          0          0  \n",
       "171          0          0  \n",
       "\n",
       "[400 rows x 5 columns]"
      ]
     },
     "execution_count": 26,
     "metadata": {},
     "output_type": "execute_result"
    }
   ],
   "source": [
    "merged.sort_values(\"Similarity\",ascending=False)"
   ]
  },
  {
   "cell_type": "code",
   "execution_count": 27,
   "metadata": {},
   "outputs": [],
   "source": [
    "merged.sort_values([\"Cluster_A\", \"Cluster_B\"], inplace = True)"
   ]
  },
  {
   "cell_type": "markdown",
   "metadata": {},
   "source": [
    "## Zuordnung der Farben für die einzelnen Kästchen\n",
    "Anhand der Ähnlichkeit wird nun die Farbe der Kästchen festgelegt"
   ]
  },
  {
   "cell_type": "code",
   "execution_count": 28,
   "metadata": {},
   "outputs": [],
   "source": [
    "palette = RdYlGn[7]\n",
    "#palette = RdYlGn[11]\n",
    "\n",
    "mapper = LinearColorMapper(palette=palette, low=merged[\"Similarity\"].min(),high=merged[\"Similarity\"].max())"
   ]
  },
  {
   "cell_type": "markdown",
   "metadata": {},
   "source": [
    "## Daten vorbereiten"
   ]
  },
  {
   "cell_type": "code",
   "execution_count": 29,
   "metadata": {},
   "outputs": [],
   "source": [
    "source = ColumnDataSource(merged)"
   ]
  },
  {
   "cell_type": "markdown",
   "metadata": {},
   "source": [
    "## HoverTool konfigurieren"
   ]
  },
  {
   "cell_type": "code",
   "execution_count": 30,
   "metadata": {},
   "outputs": [],
   "source": [
    "hover = HoverTool(tooltips=[(\"Organisation 1\", \"@Org_A\"),(\"Organisation 2\", \"@Org_B\"),(\"Ähnlichkeit\", \"@Similarity\")])"
   ]
  },
  {
   "cell_type": "markdown",
   "metadata": {},
   "source": [
    "## Definition der Tools die Rechts neben der heatmap erscheinen"
   ]
  },
  {
   "cell_type": "code",
   "execution_count": 31,
   "metadata": {},
   "outputs": [],
   "source": [
    "tools = [hover, \"pan\",\"wheel_zoom\",\"box_zoom\",\"reset\", \"save\"]"
   ]
  },
  {
   "cell_type": "markdown",
   "metadata": {},
   "source": [
    "## Initialisierung des Plots"
   ]
  },
  {
   "cell_type": "code",
   "execution_count": 32,
   "metadata": {},
   "outputs": [],
   "source": [
    "p = figure(title=\"Heatmap Anmelder\", x_axis_location=\"above\", tools=tools, x_range=merged[\"Org_A\"].unique(), y_range=list(reversed(merged[\"Org_B\"].unique())))\n",
    "p.plot_width = 800\n",
    "p.plot_height = 800\n",
    "p.grid.grid_line_color = None\n",
    "p.axis.axis_line_color = None\n",
    "p.axis.major_tick_line_color = None\n",
    "p.axis.major_label_text_font_size = \"7pt\"\n",
    "p.axis.major_label_standoff = 0\n",
    "p.xaxis.major_label_orientation = np.pi/3"
   ]
  },
  {
   "cell_type": "markdown",
   "metadata": {},
   "source": [
    "## Erstellen der Heatmap"
   ]
  },
  {
   "cell_type": "code",
   "execution_count": 33,
   "metadata": {},
   "outputs": [
    {
     "data": {
      "text/html": [
       "<div style=\"display: table;\"><div style=\"display: table-row;\"><div style=\"display: table-cell;\"><b title=\"bokeh.models.renderers.GlyphRenderer\">GlyphRenderer</b>(</div><div style=\"display: table-cell;\">id&nbsp;=&nbsp;'1038', <span id=\"1041\" style=\"cursor: pointer;\">&hellip;)</span></div></div><div class=\"1040\" style=\"display: none;\"><div style=\"display: table-cell;\"></div><div style=\"display: table-cell;\">data_source&nbsp;=&nbsp;ColumnDataSource(id='1002', ...),</div></div><div class=\"1040\" style=\"display: none;\"><div style=\"display: table-cell;\"></div><div style=\"display: table-cell;\">glyph&nbsp;=&nbsp;Rect(id='1035', ...),</div></div><div class=\"1040\" style=\"display: none;\"><div style=\"display: table-cell;\"></div><div style=\"display: table-cell;\">hover_glyph&nbsp;=&nbsp;Rect(id='1037', ...),</div></div><div class=\"1040\" style=\"display: none;\"><div style=\"display: table-cell;\"></div><div style=\"display: table-cell;\">js_event_callbacks&nbsp;=&nbsp;{},</div></div><div class=\"1040\" style=\"display: none;\"><div style=\"display: table-cell;\"></div><div style=\"display: table-cell;\">js_property_callbacks&nbsp;=&nbsp;{},</div></div><div class=\"1040\" style=\"display: none;\"><div style=\"display: table-cell;\"></div><div style=\"display: table-cell;\">level&nbsp;=&nbsp;'glyph',</div></div><div class=\"1040\" style=\"display: none;\"><div style=\"display: table-cell;\"></div><div style=\"display: table-cell;\">muted&nbsp;=&nbsp;False,</div></div><div class=\"1040\" style=\"display: none;\"><div style=\"display: table-cell;\"></div><div style=\"display: table-cell;\">muted_glyph&nbsp;=&nbsp;None,</div></div><div class=\"1040\" style=\"display: none;\"><div style=\"display: table-cell;\"></div><div style=\"display: table-cell;\">name&nbsp;=&nbsp;None,</div></div><div class=\"1040\" style=\"display: none;\"><div style=\"display: table-cell;\"></div><div style=\"display: table-cell;\">nonselection_glyph&nbsp;=&nbsp;Rect(id='1036', ...),</div></div><div class=\"1040\" style=\"display: none;\"><div style=\"display: table-cell;\"></div><div style=\"display: table-cell;\">selection_glyph&nbsp;=&nbsp;None,</div></div><div class=\"1040\" style=\"display: none;\"><div style=\"display: table-cell;\"></div><div style=\"display: table-cell;\">subscribed_events&nbsp;=&nbsp;[],</div></div><div class=\"1040\" style=\"display: none;\"><div style=\"display: table-cell;\"></div><div style=\"display: table-cell;\">tags&nbsp;=&nbsp;[],</div></div><div class=\"1040\" style=\"display: none;\"><div style=\"display: table-cell;\"></div><div style=\"display: table-cell;\">view&nbsp;=&nbsp;CDSView(id='1039', ...),</div></div><div class=\"1040\" style=\"display: none;\"><div style=\"display: table-cell;\"></div><div style=\"display: table-cell;\">visible&nbsp;=&nbsp;True,</div></div><div class=\"1040\" style=\"display: none;\"><div style=\"display: table-cell;\"></div><div style=\"display: table-cell;\">x_range_name&nbsp;=&nbsp;'default',</div></div><div class=\"1040\" style=\"display: none;\"><div style=\"display: table-cell;\"></div><div style=\"display: table-cell;\">y_range_name&nbsp;=&nbsp;'default')</div></div></div>\n",
       "<script>\n",
       "(function() {\n",
       "  var expanded = false;\n",
       "  var ellipsis = document.getElementById(\"1041\");\n",
       "  ellipsis.addEventListener(\"click\", function() {\n",
       "    var rows = document.getElementsByClassName(\"1040\");\n",
       "    for (var i = 0; i < rows.length; i++) {\n",
       "      var el = rows[i];\n",
       "      el.style.display = expanded ? \"none\" : \"table-row\";\n",
       "    }\n",
       "    ellipsis.innerHTML = expanded ? \"&hellip;)\" : \"&lsaquo;&lsaquo;&lsaquo;\";\n",
       "    expanded = !expanded;\n",
       "  });\n",
       "})();\n",
       "</script>\n"
      ],
      "text/plain": [
       "GlyphRenderer(id='1038', ...)"
      ]
     },
     "execution_count": 33,
     "metadata": {},
     "output_type": "execute_result"
    }
   ],
   "source": [
    "p.rect('Org_A', 'Org_B', 0.9, 0.9, source=source,fill_color = transform(\"Similarity\", mapper),hover_line_color='black',hover_color = transform(\"Similarity\", mapper))\n",
    "#get_screenshot_as_png(p)\n"
   ]
  },
  {
   "cell_type": "markdown",
   "metadata": {},
   "source": [
    "## Anzeigen der Heatmap"
   ]
  },
  {
   "cell_type": "code",
   "execution_count": 34,
   "metadata": {},
   "outputs": [],
   "source": [
    "show(p)"
   ]
  }
 ],
 "metadata": {
  "kernelspec": {
   "display_name": "Python 3",
   "language": "python",
   "name": "python3"
  },
  "language_info": {
   "codemirror_mode": {
    "name": "ipython",
    "version": 3
   },
   "file_extension": ".py",
   "mimetype": "text/x-python",
   "name": "python",
   "nbconvert_exporter": "python",
   "pygments_lexer": "ipython3",
   "version": "3.8.5"
  }
 },
 "nbformat": 4,
 "nbformat_minor": 4
}
